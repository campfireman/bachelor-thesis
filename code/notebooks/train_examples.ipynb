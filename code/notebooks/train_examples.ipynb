{
 "cells": [
  {
   "cell_type": "code",
   "execution_count": 3,
   "metadata": {},
   "outputs": [
    {
     "name": "stdout",
     "output_type": "stream",
     "text": [
      "File with trainExamples found. Loading it...\n",
      "Loading done!\n",
      "18\n"
     ]
    }
   ],
   "source": [
    "import os\n",
    "import sys\n",
    "from tensorflow.python.lib.io import file_io\n",
    "from pickle import Unpickler\n",
    "\n",
    "CHECKPOINT_FILE = 'checkpoint_17.pth.tar.examples'\n",
    "\n",
    "def load_train_examples(path):\n",
    "    train_examples_history = []\n",
    "    if not os.path.isfile(path):\n",
    "        print(f'File \"{path}\" with trainExamples not found!')\n",
    "        r = input(\"Continue? [y|n]\")\n",
    "        if r != \"y\":\n",
    "            sys.exit()\n",
    "    else:\n",
    "        print(\"File with trainExamples found. Loading it...\")\n",
    "        with file_io.FileIO(path, \"rb\") as f:\n",
    "            train_examples_history = Unpickler(f).load()\n",
    "        print('Loading done!')\n",
    "    return train_examples_history\n",
    "\n",
    "examples = load_train_examples(os.path.join(os.path.dirname(os.getcwd()), f'data/temp/{CHECKPOINT_FILE}'))\n",
    "print(len(examples))"
   ]
  },
  {
   "cell_type": "code",
   "execution_count": 4,
   "metadata": {},
   "outputs": [
    {
     "ename": "SyntaxError",
     "evalue": "invalid syntax (1235331270.py, line 1)",
     "output_type": "error",
     "traceback": [
      "\u001b[0;36m  File \u001b[0;32m\"/tmp/ipykernel_166063/1235331270.py\"\u001b[0;36m, line \u001b[0;32m1\u001b[0m\n\u001b[0;31m    for\u001b[0m\n\u001b[0m        ^\u001b[0m\n\u001b[0;31mSyntaxError\u001b[0m\u001b[0;31m:\u001b[0m invalid syntax\n"
     ]
    }
   ],
   "source": [
    "total = 0\n",
    "n = 0\n",
    "for iteration in examples:\n",
    "    for game in iteration:\n",
    "        for experience in game:\n",
    "            n += 1\n",
    "            total += experience[2]\n",
    "\n",
    "print(total / n)"
   ]
  }
 ],
 "metadata": {
  "interpreter": {
   "hash": "20d1506402a4a519508ea0c891d50f28fd2aed8263dcfa9fe1d39a2260943c9d"
  },
  "kernelspec": {
   "display_name": "Python 3.9.7 64-bit ('env': venv)",
   "language": "python",
   "name": "python3"
  },
  "language_info": {
   "codemirror_mode": {
    "name": "ipython",
    "version": 3
   },
   "file_extension": ".py",
   "mimetype": "text/x-python",
   "name": "python",
   "nbconvert_exporter": "python",
   "pygments_lexer": "ipython3",
   "version": "3.9.7"
  },
  "orig_nbformat": 4
 },
 "nbformat": 4,
 "nbformat_minor": 2
}
