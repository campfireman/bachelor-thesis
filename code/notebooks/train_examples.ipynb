{
 "cells": [
  {
   "cell_type": "code",
   "execution_count": 36,
   "metadata": {},
   "outputs": [
    {
     "name": "stdout",
     "output_type": "stream",
     "text": [
      "File with trainExamples found. Loading it...\n",
      "Loading done!\n",
      "-1e-08\n",
      "4.84464730732711e-06\n",
      "34402\n"
     ]
    }
   ],
   "source": [
    "import os\n",
    "import sys\n",
    "from tensorflow.python.lib.io import file_io\n",
    "from pickle import Unpickler\n",
    "import numpy as np\n",
    "from matplotlib import pyplot as plt \n",
    "import numpy as np  \n",
    "   \n",
    "\n",
    "def load_z_s(number):\n",
    "    path =os.path.join(os.path.dirname(os.getcwd()), f'data/temp/checkpoint_{number}.pth.tar.examples') \n",
    "    train_examples_history = []\n",
    "    if not os.path.isfile(path):\n",
    "        print(f'File \"{path}\" with trainExamples not found!')\n",
    "        r = input(\"Continue? [y|n]\")\n",
    "        if r != \"y\":\n",
    "            sys.exit()\n",
    "    else:\n",
    "        print(\"File with trainExamples found. Loading it...\")\n",
    "        with file_io.FileIO(path, \"rb\") as f:\n",
    "            train_examples_history = Unpickler(f).load()\n",
    "        print('Loading done!')\n",
    "    z_s = []\n",
    "    for game in train_examples_history:\n",
    "        for experience in game:\n",
    "            z = experience[2]\n",
    "            z_s.append(z)\n",
    "    return z_s\n",
    "\n",
    "def hist(z_s):\n",
    "    plt.hist(z_s, bins = [-1/2, -1/3, -1/6, -1e-08, 1e-08, 1/6, 1/3, 1/2])\n",
    "    plt.title(\"histogram\") \n",
    "    plt.show()\n",
    "\n",
    "z_s_17 = load_z_s(17)\n",
    "\n",
    "print(np.median(z_s_17))\n",
    "print(np.mean(z_s_17))\n",
    "print(len(z_s_17))"
   ]
  },
  {
   "cell_type": "code",
   "execution_count": 37,
   "metadata": {},
   "outputs": [
    {
     "data": {
      "image/png": "[encoded data removed]",
      "text/plain": [
       "<Figure size 432x288 with 1 Axes>"
      ]
     },
     "metadata": {
      "needs_background": "light"
     },
     "output_type": "display_data"
    }
   ],
   "source": [
    "hist(z_s_17)"
   ]
  },
  {
   "cell_type": "code",
   "execution_count": 38,
   "metadata": {},
   "outputs": [
    {
     "name": "stdout",
     "output_type": "stream",
     "text": [
      "File with trainExamples found. Loading it...\n",
      "Loading done!\n"
     ]
    },
    {
     "data": {
      "image/png": "[encoded data removed]",
      "text/plain": [
       "<Figure size 432x288 with 1 Axes>"
      ]
     },
     "metadata": {
      "needs_background": "light"
     },
     "output_type": "display_data"
    }
   ],
   "source": [
    "z_s_27 = load_z_s(27)\n",
    "hist(z_s_27)"
   ]
  }
 ],
 "metadata": {
  "interpreter": {
   "hash": "20d1506402a4a519508ea0c891d50f28fd2aed8263dcfa9fe1d39a2260943c9d"
  },
  "kernelspec": {
   "display_name": "Python 3.9.7 64-bit ('env': venv)",
   "language": "python",
   "name": "python3"
  },
  "language_info": {
   "codemirror_mode": {
    "name": "ipython",
    "version": 3
   },
   "file_extension": ".py",
   "mimetype": "text/x-python",
   "name": "python",
   "nbconvert_exporter": "python",
   "pygments_lexer": "ipython3",
   "version": "3.9.7"
  },
  "orig_nbformat": 4
 },
 "nbformat": 4,
 "nbformat_minor": 2
}
