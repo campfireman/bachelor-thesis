{
 "cells": [
  {
   "cell_type": "code",
   "execution_count": 61,
   "metadata": {},
   "outputs": [
    {
     "data": {
      "text/html": [
       "<div>\n",
       "<style scoped>\n",
       "    .dataframe tbody tr th:only-of-type {\n",
       "        vertical-align: middle;\n",
       "    }\n",
       "\n",
       "    .dataframe tbody tr th {\n",
       "        vertical-align: top;\n",
       "    }\n",
       "\n",
       "    .dataframe thead th {\n",
       "        text-align: right;\n",
       "    }\n",
       "</style>\n",
       "<table border=\"1\" class=\"dataframe\">\n",
       "  <thead>\n",
       "    <tr style=\"text-align: right;\">\n",
       "      <th></th>\n",
       "      <th>iteration</th>\n",
       "      <th>timestamp</th>\n",
       "      <th>iteration_duration</th>\n",
       "      <th>training_duration</th>\n",
       "      <th>examples_read_from_queue</th>\n",
       "      <th>length_experience_buffer</th>\n",
       "    </tr>\n",
       "  </thead>\n",
       "  <tbody>\n",
       "    <tr>\n",
       "      <th>0</th>\n",
       "      <td>1</td>\n",
       "      <td>1970-01-01 00:00:01.643392298</td>\n",
       "      <td>1235.374931</td>\n",
       "      <td>74.591349</td>\n",
       "      <td>10</td>\n",
       "      <td>24070</td>\n",
       "    </tr>\n",
       "    <tr>\n",
       "      <th>1</th>\n",
       "      <td>2</td>\n",
       "      <td>1970-01-01 00:00:01.643393232</td>\n",
       "      <td>934.307589</td>\n",
       "      <td>402.828289</td>\n",
       "      <td>44</td>\n",
       "      <td>129973</td>\n",
       "    </tr>\n",
       "    <tr>\n",
       "      <th>2</th>\n",
       "      <td>3</td>\n",
       "      <td>1970-01-01 00:00:01.643394449</td>\n",
       "      <td>1216.475921</td>\n",
       "      <td>673.190331</td>\n",
       "      <td>36</td>\n",
       "      <td>216625</td>\n",
       "    </tr>\n",
       "    <tr>\n",
       "      <th>3</th>\n",
       "      <td>4</td>\n",
       "      <td>1970-01-01 00:00:01.643395996</td>\n",
       "      <td>1547.219904</td>\n",
       "      <td>992.436172</td>\n",
       "      <td>43</td>\n",
       "      <td>320126</td>\n",
       "    </tr>\n",
       "    <tr>\n",
       "      <th>4</th>\n",
       "      <td>5</td>\n",
       "      <td>1970-01-01 00:00:01.643398922</td>\n",
       "      <td>2925.872467</td>\n",
       "      <td>1388.638523</td>\n",
       "      <td>53</td>\n",
       "      <td>447697</td>\n",
       "    </tr>\n",
       "  </tbody>\n",
       "</table>\n",
       "</div>"
      ],
      "text/plain": [
       "   iteration                     timestamp  iteration_duration  \\\n",
       "0          1 1970-01-01 00:00:01.643392298         1235.374931   \n",
       "1          2 1970-01-01 00:00:01.643393232          934.307589   \n",
       "2          3 1970-01-01 00:00:01.643394449         1216.475921   \n",
       "3          4 1970-01-01 00:00:01.643395996         1547.219904   \n",
       "4          5 1970-01-01 00:00:01.643398922         2925.872467   \n",
       "\n",
       "   training_duration  examples_read_from_queue  length_experience_buffer  \n",
       "0          74.591349                        10                     24070  \n",
       "1         402.828289                        44                    129973  \n",
       "2         673.190331                        36                    216625  \n",
       "3         992.436172                        43                    320126  \n",
       "4        1388.638523                        53                    447697  "
      ]
     },
     "execution_count": 61,
     "metadata": {},
     "output_type": "execute_result"
    }
   ],
   "source": [
    "import pandas as pd\n",
    "import os\n",
    "import matplotlib.pyplot as plt\n",
    "\n",
    "TIMESTAMP = '1643390569.2872791'\n",
    "DATA_DIRECTORY = '/run/media/ture/Backup Plus/data/2022-01-29_server_training/'\n",
    "\n",
    "perf_data = pd.read_csv(os.path.join(DATA_DIRECTORY, f'{TIMESTAMP}_performance_stats.csv'))\n",
    "perf_data['timestamp'] = pd.to_datetime(perf_data['timestamp'])\n",
    "perf_data.head()"
   ]
  },
  {
   "cell_type": "code",
   "execution_count": 62,
   "metadata": {},
   "outputs": [
    {
     "data": {
      "text/plain": [
       "<AxesSubplot:xlabel='iteration'>"
      ]
     },
     "execution_count": 62,
     "metadata": {},
     "output_type": "execute_result"
    },
    {
     "data": {
      "image/png": "[encoded data removed]",
      "text/plain": [
       "<Figure size 432x288 with 1 Axes>"
      ]
     },
     "metadata": {
      "needs_background": "light"
     },
     "output_type": "display_data"
    }
   ],
   "source": [
    "perf_data.plot.bar(x='iteration', y='examples_read_from_queue')"
   ]
  },
  {
   "cell_type": "code",
   "execution_count": 63,
   "metadata": {},
   "outputs": [
    {
     "data": {
      "text/plain": [
       "<AxesSubplot:xlabel='iteration'>"
      ]
     },
     "execution_count": 63,
     "metadata": {},
     "output_type": "execute_result"
    },
    {
     "data": {
      "image/png": "[encoded data removed]",
      "text/plain": [
       "<Figure size 432x288 with 1 Axes>"
      ]
     },
     "metadata": {
      "needs_background": "light"
     },
     "output_type": "display_data"
    }
   ],
   "source": [
    "perf_data.plot.bar(x='iteration', y='length_experience_buffer')"
   ]
  },
  {
   "cell_type": "code",
   "execution_count": 64,
   "metadata": {},
   "outputs": [
    {
     "data": {
      "text/plain": [
       "<AxesSubplot:xlabel='iteration'>"
      ]
     },
     "execution_count": 64,
     "metadata": {},
     "output_type": "execute_result"
    },
    {
     "data": {
      "image/png": "[encoded data removed]",
      "text/plain": [
       "<Figure size 432x288 with 1 Axes>"
      ]
     },
     "metadata": {
      "needs_background": "light"
     },
     "output_type": "display_data"
    }
   ],
   "source": [
    "perf_data.plot.bar(x='iteration', y='iteration_duration')"
   ]
  },
  {
   "cell_type": "code",
   "execution_count": 65,
   "metadata": {},
   "outputs": [
    {
     "data": {
      "text/html": [
       "<div>\n",
       "<style scoped>\n",
       "    .dataframe tbody tr th:only-of-type {\n",
       "        vertical-align: middle;\n",
       "    }\n",
       "\n",
       "    .dataframe tbody tr th {\n",
       "        vertical-align: top;\n",
       "    }\n",
       "\n",
       "    .dataframe thead th {\n",
       "        text-align: right;\n",
       "    }\n",
       "</style>\n",
       "<table border=\"1\" class=\"dataframe\">\n",
       "  <thead>\n",
       "    <tr style=\"text-align: right;\">\n",
       "      <th></th>\n",
       "      <th>iteration</th>\n",
       "      <th>timestamp</th>\n",
       "      <th>wins</th>\n",
       "      <th>losses</th>\n",
       "      <th>draws</th>\n",
       "      <th>nnet_cumul_rewards</th>\n",
       "      <th>random_cumul_rewards</th>\n",
       "    </tr>\n",
       "  </thead>\n",
       "  <tbody>\n",
       "    <tr>\n",
       "      <th>0</th>\n",
       "      <td>1</td>\n",
       "      <td>1970-01-01 00:00:01.643392298</td>\n",
       "      <td>1.0</td>\n",
       "      <td>4.0</td>\n",
       "      <td>11.0</td>\n",
       "      <td>-0.666667</td>\n",
       "      <td>0.666667</td>\n",
       "    </tr>\n",
       "    <tr>\n",
       "      <th>1</th>\n",
       "      <td>5</td>\n",
       "      <td>1970-01-01 00:00:01.643393232</td>\n",
       "      <td>4.0</td>\n",
       "      <td>5.0</td>\n",
       "      <td>7.0</td>\n",
       "      <td>-0.333333</td>\n",
       "      <td>0.333333</td>\n",
       "    </tr>\n",
       "    <tr>\n",
       "      <th>2</th>\n",
       "      <td>10</td>\n",
       "      <td>1970-01-01 00:00:01.643394449</td>\n",
       "      <td>2.0</td>\n",
       "      <td>6.0</td>\n",
       "      <td>8.0</td>\n",
       "      <td>-0.500000</td>\n",
       "      <td>0.500000</td>\n",
       "    </tr>\n",
       "    <tr>\n",
       "      <th>3</th>\n",
       "      <td>15</td>\n",
       "      <td>1970-01-01 00:00:01.643395996</td>\n",
       "      <td>7.0</td>\n",
       "      <td>3.0</td>\n",
       "      <td>6.0</td>\n",
       "      <td>1.000000</td>\n",
       "      <td>-1.000000</td>\n",
       "    </tr>\n",
       "    <tr>\n",
       "      <th>4</th>\n",
       "      <td>20</td>\n",
       "      <td>1970-01-01 00:00:01.643398922</td>\n",
       "      <td>2.0</td>\n",
       "      <td>2.0</td>\n",
       "      <td>12.0</td>\n",
       "      <td>0.000000</td>\n",
       "      <td>0.000000</td>\n",
       "    </tr>\n",
       "  </tbody>\n",
       "</table>\n",
       "</div>"
      ],
      "text/plain": [
       "   iteration                     timestamp  wins  losses  draws  \\\n",
       "0          1 1970-01-01 00:00:01.643392298   1.0     4.0   11.0   \n",
       "1          5 1970-01-01 00:00:01.643393232   4.0     5.0    7.0   \n",
       "2         10 1970-01-01 00:00:01.643394449   2.0     6.0    8.0   \n",
       "3         15 1970-01-01 00:00:01.643395996   7.0     3.0    6.0   \n",
       "4         20 1970-01-01 00:00:01.643398922   2.0     2.0   12.0   \n",
       "\n",
       "   nnet_cumul_rewards  random_cumul_rewards  \n",
       "0           -0.666667              0.666667  \n",
       "1           -0.333333              0.333333  \n",
       "2           -0.500000              0.500000  \n",
       "3            1.000000             -1.000000  \n",
       "4            0.000000              0.000000  "
      ]
     },
     "execution_count": 65,
     "metadata": {},
     "output_type": "execute_result"
    }
   ],
   "source": [
    "rndm_data = pd.read_csv(os.path.join(DATA_DIRECTORY, f'{TIMESTAMP}_random_player_game_stats.csv'))\n",
    "rndm_data['timestamp'] = pd.to_datetime(perf_data['timestamp'])\n",
    "rndm_data.set_index('iteration')\n",
    "rndm_data.head()"
   ]
  },
  {
   "cell_type": "code",
   "execution_count": 66,
   "metadata": {},
   "outputs": [
    {
     "data": {
      "text/html": [
       "<div>\n",
       "<style scoped>\n",
       "    .dataframe tbody tr th:only-of-type {\n",
       "        vertical-align: middle;\n",
       "    }\n",
       "\n",
       "    .dataframe tbody tr th {\n",
       "        vertical-align: top;\n",
       "    }\n",
       "\n",
       "    .dataframe thead th {\n",
       "        text-align: right;\n",
       "    }\n",
       "</style>\n",
       "<table border=\"1\" class=\"dataframe\">\n",
       "  <thead>\n",
       "    <tr style=\"text-align: right;\">\n",
       "      <th></th>\n",
       "      <th>iteration</th>\n",
       "      <th>timestamp</th>\n",
       "      <th>wins</th>\n",
       "      <th>losses</th>\n",
       "      <th>draws</th>\n",
       "      <th>nnet_cumul_rewards</th>\n",
       "      <th>random_cumul_rewards</th>\n",
       "    </tr>\n",
       "  </thead>\n",
       "  <tbody>\n",
       "    <tr>\n",
       "      <th>0</th>\n",
       "      <td>1</td>\n",
       "      <td>1970-01-01 00:00:01.643392298</td>\n",
       "      <td>0.0</td>\n",
       "      <td>16.0</td>\n",
       "      <td>0.0</td>\n",
       "      <td>-16.000000</td>\n",
       "      <td>16.000000</td>\n",
       "    </tr>\n",
       "    <tr>\n",
       "      <th>1</th>\n",
       "      <td>5</td>\n",
       "      <td>1970-01-01 00:00:01.643393232</td>\n",
       "      <td>0.0</td>\n",
       "      <td>16.0</td>\n",
       "      <td>0.0</td>\n",
       "      <td>-14.166667</td>\n",
       "      <td>14.166667</td>\n",
       "    </tr>\n",
       "    <tr>\n",
       "      <th>2</th>\n",
       "      <td>10</td>\n",
       "      <td>1970-01-01 00:00:01.643394449</td>\n",
       "      <td>0.0</td>\n",
       "      <td>16.0</td>\n",
       "      <td>0.0</td>\n",
       "      <td>-12.666667</td>\n",
       "      <td>12.666667</td>\n",
       "    </tr>\n",
       "    <tr>\n",
       "      <th>3</th>\n",
       "      <td>15</td>\n",
       "      <td>1970-01-01 00:00:01.643395996</td>\n",
       "      <td>0.0</td>\n",
       "      <td>16.0</td>\n",
       "      <td>0.0</td>\n",
       "      <td>-14.000000</td>\n",
       "      <td>14.000000</td>\n",
       "    </tr>\n",
       "    <tr>\n",
       "      <th>4</th>\n",
       "      <td>20</td>\n",
       "      <td>1970-01-01 00:00:01.643398922</td>\n",
       "      <td>0.0</td>\n",
       "      <td>14.0</td>\n",
       "      <td>2.0</td>\n",
       "      <td>-8.833333</td>\n",
       "      <td>8.833333</td>\n",
       "    </tr>\n",
       "  </tbody>\n",
       "</table>\n",
       "</div>"
      ],
      "text/plain": [
       "   iteration                     timestamp  wins  losses  draws  \\\n",
       "0          1 1970-01-01 00:00:01.643392298   0.0    16.0    0.0   \n",
       "1          5 1970-01-01 00:00:01.643393232   0.0    16.0    0.0   \n",
       "2         10 1970-01-01 00:00:01.643394449   0.0    16.0    0.0   \n",
       "3         15 1970-01-01 00:00:01.643395996   0.0    16.0    0.0   \n",
       "4         20 1970-01-01 00:00:01.643398922   0.0    14.0    2.0   \n",
       "\n",
       "   nnet_cumul_rewards  random_cumul_rewards  \n",
       "0          -16.000000             16.000000  \n",
       "1          -14.166667             14.166667  \n",
       "2          -12.666667             12.666667  \n",
       "3          -14.000000             14.000000  \n",
       "4           -8.833333              8.833333  "
      ]
     },
     "execution_count": 66,
     "metadata": {},
     "output_type": "execute_result"
    }
   ],
   "source": [
    "hrstc_data = pd.read_csv(os.path.join(DATA_DIRECTORY, f'{TIMESTAMP}_heuristic_player_game_stats.csv'))\n",
    "hrstc_data['timestamp'] = pd.to_datetime(perf_data['timestamp'])\n",
    "hrstc_data.set_index('iteration')\n",
    "hrstc_data.head()"
   ]
  },
  {
   "cell_type": "code",
   "execution_count": 67,
   "metadata": {},
   "outputs": [
    {
     "data": {
      "image/png": "[encoded data removed]",
      "text/plain": [
       "<Figure size 432x288 with 1 Axes>"
      ]
     },
     "metadata": {
      "needs_background": "light"
     },
     "output_type": "display_data"
    }
   ],
   "source": [
    "rndm_n_games = int(rndm_data['wins'][0] + rndm_data['losses'][0] + rndm_data['draws'][0])\n",
    "hrstc_n_games = int(rndm_data['wins'][0] + rndm_data['losses'][0] + rndm_data['draws'][0])\n",
    "\n",
    "rndm_fraction_won = rndm_data.apply(lambda row: row['wins'] / rndm_n_games, axis=1).to_list()\n",
    "hrstc_fraction_won = hrstc_data.apply(lambda row: row['wins'] / hrstc_n_games, axis=1).to_list()\n",
    "\n",
    "plt.plot(rndm_data['iteration'], rndm_fraction_won,  label=f'Random agent (n={rndm_n_games})')\n",
    "plt.plot(rndm_data['iteration'], hrstc_fraction_won,  label=f'Random agent (n={hrstc_n_games})')\n",
    "plt.xticks(rndm_data['iteration'])\n",
    "plt.xlabel('Iteration')\n",
    "plt.ylabel(f'Fraction won')\n",
    "plt.legend()\n",
    "plt.show()"
   ]
  },
  {
   "cell_type": "code",
   "execution_count": 68,
   "metadata": {},
   "outputs": [
    {
     "data": {
      "image/png": "[encoded data removed]",
      "text/plain": [
       "<Figure size 432x288 with 1 Axes>"
      ]
     },
     "metadata": {
      "needs_background": "light"
     },
     "output_type": "display_data"
    }
   ],
   "source": [
    "plt.plot(rndm_data['iteration'], rndm_data['nnet_cumul_rewards'],  label=f'Cumul. rew. (vs. Random agent)')\n",
    "plt.plot(rndm_data['iteration'], hrstc_data['nnet_cumul_rewards'],  label=f'Cumul. rew. (vs. Heur. Agent)')\n",
    "plt.xticks(rndm_data['iteration'])\n",
    "plt.xlabel('Iteration')\n",
    "plt.ylabel(f'Reward')\n",
    "plt.legend()\n",
    "plt.show()"
   ]
  }
 ],
 "metadata": {
  "interpreter": {
   "hash": "e7370f93d1d0cde622a1f8e1c04877d8463912d04d973331ad4851f04de6915a"
  },
  "kernelspec": {
   "display_name": "Python 3.9.7 64-bit",
   "language": "python",
   "name": "python3"
  },
  "language_info": {
   "codemirror_mode": {
    "name": "ipython",
    "version": 3
   },
   "file_extension": ".py",
   "mimetype": "text/x-python",
   "name": "python",
   "nbconvert_exporter": "python",
   "pygments_lexer": "ipython3",
   "version": "3.8.12"
  },
  "orig_nbformat": 4
 },
 "nbformat": 4,
 "nbformat_minor": 2
}
